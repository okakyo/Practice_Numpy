{
 "cells": [
  {
   "cell_type": "markdown",
   "metadata": {},
   "source": [
    "# 仮想環境の構築\n"
   ]
  },
  {
   "cell_type": "code",
   "execution_count": 1,
   "metadata": {},
   "outputs": [],
   "source": [
    "import math\n",
    "import matplotlib\n",
    "\n",
    "import numpy as np\n",
    "import matplotlib.pyplot as plt \n",
    "import matplotlib.patches as  patches\n",
    "import matplotlib.animation as anm\n",
    "\n",
    "matplotlib.use(\"nbagg\")"
   ]
  },
  {
   "cell_type": "code",
   "execution_count": 28,
   "metadata": {},
   "outputs": [],
   "source": [
    "class VWorld:\n",
    "    def __init__(self, debug=False):\n",
    "            self.objects = [] \n",
    "            self.debug = debug\n",
    "        \n",
    "    def append(self,obj):             # オブジェクトを登録するための関数\n",
    "        self.objects.append(obj)\n",
    "    \n",
    "    def draw(self):\n",
    "        fig = plt.figure(figsize=(4,4))                # 8x8 inchの図を準備\n",
    "        ax = fig.add_subplot(111)                      # サブプロットを準備\n",
    "        ax.set_aspect('equal')                         # 縦横比を座標の値と一致させる\n",
    "        ax.set_xlim(-5,5)                              # X軸を-5m x 5mの範囲で描画\n",
    "        ax.set_ylim(-5,5)                              # Y軸も同様に\n",
    "        ax.set_xlabel(\"X\",fontsize=10)                 # X軸にラベルを表示\n",
    "        ax.set_ylabel(\"Y\",fontsize=10)                 # 同じくY軸に\n",
    "        \n",
    "        elems = []\n",
    "        \n",
    "        if self.debug:        \n",
    "            for i in range(1000): self.one_step(i, elems, ax) \n",
    "        else:\n",
    "            self.ani = anm.FuncAnimation(fig, self.one_step, fargs=(elems, ax), frames=100, interval=1000, repeat=False)\n",
    "            plt.show()\n",
    "        \n",
    "    def one_step(self, i, elems, ax):    ### fig:one_step_add_one_step \n",
    "        while elems: elems.pop().remove()\n",
    "        elems.append(ax.text(-4.4, 4.5, \"t = \"+str(i), fontsize=10)) \n",
    "        for obj in self.objects:\n",
    "            obj.draw(ax, elems)\n",
    "            if hasattr(obj, \"one_step\"): obj.one_step(1.0)     # 追加"
   ]
  },
  {
   "cell_type": "code",
   "execution_count": 29,
   "metadata": {},
   "outputs": [
    {
     "data": {
      "image/png": "[encoded data removed]",
      "text/plain": [
       "<Figure size 288x288 with 1 Axes>"
      ]
     },
     "metadata": {
      "needs_background": "light"
     },
     "output_type": "display_data"
    }
   ],
   "source": [
    "world = VWorld()\n",
    "world.draw()"
   ]
  },
  {
   "cell_type": "code",
   "execution_count": 33,
   "metadata": {},
   "outputs": [],
   "source": [
    "class VRobot:\n",
    "    def __init__(self, pose, agent=None, color=\"black\"):  # agentという引数を追加\n",
    "        self.pose = pose \n",
    "        self.r = 0.2 \n",
    "        self.color = color \n",
    "        self.agent = agent   # 追加\n",
    "        self.poses = [pose]         # 軌跡の描画用。追加\n",
    "    \n",
    "    def draw(self, ax, elems):  ###idealrobot6draw\n",
    "        x, y, theta = self.pose   #ここから15行目までは変えなくて良い\n",
    "        xn = x + self.r * math.cos(theta) \n",
    "        yn = y + self.r * math.sin(theta)  \n",
    "        elems += ax.plot([x,xn], [y,yn], color=self.color) \n",
    "        c = patches.Circle(xy=(x, y), radius=self.r, fill=False, color=self.color) \n",
    "        elems.append(ax.add_patch(c))\n",
    "        \n",
    "        self.poses.append(self.pose) #以下追加。軌跡の描画\n",
    "        elems += ax.plot([e[0] for e in self.poses], [e[1] for e in self.poses], linewidth=0.5, color=\"black\")\n",
    "            \n",
    "    @classmethod\n",
    "    def state_transition(cls, nu, omega, time, pose):    ### fig:state_transition(20-35行目)\n",
    "        t0 = pose[2]\n",
    "        if math.fabs(omega) < 1e-10: #角速度がほぼゼロの場合とそうでない場合で場合分け\n",
    "            return pose + np.array( [nu*math.cos(t0), \n",
    "                                     nu*math.sin(t0),\n",
    "                                     omega ] ) * time\n",
    "        else:\n",
    "            return pose + np.array( [nu/omega*(math.sin(t0 + omega*time) - math.sin(t0)), \n",
    "                                     nu/omega*(-math.cos(t0 + omega*time) + math.cos(t0)),\n",
    "                                     omega*time ] )\n",
    "\n",
    "    def one_step(self, time_interval):            ### fig:robot_one_step\n",
    "        if not self.agent: return\n",
    "        nu, omega = self.agent.decision()\n",
    "        self.pose = self.state_transition(nu, omega, time_interval, self.pose)"
   ]
  },
  {
   "cell_type": "code",
   "execution_count": 34,
   "metadata": {},
   "outputs": [],
   "source": [
    "class Agent:\n",
    "    def __init__(self,nu,omega):\n",
    "        self.nu =nu\n",
    "        self.omega = omega\n",
    "        \n",
    "    def decision(self, observation = None):\n",
    "        return self.nu,self.omega"
   ]
  },
  {
   "cell_type": "code",
   "execution_count": 36,
   "metadata": {},
   "outputs": [
    {
     "data": {
      "image/png": "[encoded data removed]",
      "text/plain": [
       "<Figure size 288x288 with 1 Axes>"
      ]
     },
     "metadata": {
      "needs_background": "light"
     },
     "output_type": "display_data"
    }
   ],
   "source": [
    "world = VWorld(True)   \n",
    "\n",
    "### fig:rewrite_robot_for_agent\n",
    "straight = Agent(0.2, 0.0)                # 0.2[m/s]で直進     \n",
    "circling = Agent(0.2, 10.0/180*math.pi)   # 0.2[m/s], 10[deg/s]（円を描く）\n",
    "robot1 = VRobot( np.array([ 2, 3, math.pi/6]).T,    straight )  \n",
    "robot2 = VRobot( np.array([-2, -1, math.pi/5*6]).T, circling, \"red\")  \n",
    "robot3 = VRobot( np.array([ 0, 0, 0]).T, color=\"blue\")     # エージェントを与えないロボット\n",
    "\n",
    "\n",
    "world.append(robot1)\n",
    "world.append(robot2)\n",
    "world.append(robot3)\n",
    "world.draw()"
   ]
  }
 ],
 "metadata": {
  "kernelspec": {
   "display_name": "Python 3",
   "language": "python",
   "name": "python3"
  },
  "language_info": {
   "codemirror_mode": {
    "name": "ipython",
    "version": 3
   },
   "file_extension": ".py",
   "mimetype": "text/x-python",
   "name": "python",
   "nbconvert_exporter": "python",
   "pygments_lexer": "ipython3",
   "version": "3.7.4"
  }
 },
 "nbformat": 4,
 "nbformat_minor": 4
}
