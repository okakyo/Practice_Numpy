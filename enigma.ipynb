{
 "cells": [
  {
   "cell_type": "markdown",
   "metadata": {},
   "source": [
    "# エニグマの実装を実装\n",
    "\n",
    "参考ページ：https://qiita.com/deaikei/items/01e962c4c15b2efcc84f\n",
    "\n",
    "## エニグマとは？\n",
    "\n"
   ]
  },
  {
   "cell_type": "code",
   "execution_count": 1,
   "metadata": {},
   "outputs": [],
   "source": [
    "import random\n",
    "\n",
    "class Converter(object):\n",
    "    def __init__(self, size, seed):\n",
    "        self.size = size\n",
    "        conversions = list(range(size))\n",
    "        random.seed(seed)\n",
    "        random.shuffle(conversions)\n",
    "        self.forwards = tuple(conversions)\n",
    "        self.backwards = tuple(conversions.index(port) for port in range(size))\n",
    "\n",
    "    def forward(self, port):\n",
    "        return self.forwards[port]\n",
    "\n",
    "    def backward(self, port):\n",
    "        return self.backwards[port]\n",
    "\n",
    "class Scrumbler(Converter):\n",
    "    def __init__(self, size, seed, rotation=0):\n",
    "        Converter.__init__(self, size, seed)\n",
    "        self.set_rotation(rotation)\n",
    "\n",
    "    def set_rotation(self, rotation):\n",
    "        self.rotation = rotation\n",
    "\n",
    "    def rotate(self, step=1):\n",
    "        rotation = self.rotation + step\n",
    "        self.set_rotation(rotation % self.size)\n",
    "        return rotation // self.size    # carry\n",
    "\n",
    "    def forward(self, port):\n",
    "        return self._convert(port, self.forwards)\n",
    "\n",
    "    def backward(self, port):\n",
    "        return self._convert(port, self.backwards)\n",
    "\n",
    "    def _convert(self, port, conversions):\n",
    "        port = (port + self.rotation) % self.size\n",
    "        port = conversions[port]\n",
    "        port = (port - self.rotation) % self.size\n",
    "        return port\n",
    "\n",
    "class Refrector(object):\n",
    "    def __init__(self, size, seed):\n",
    "        refrections = list(range(size))\n",
    "        random.seed(seed)\n",
    "        random.shuffle(refrections)\n",
    "        self.refrections = tuple(refrections[-1 - refrections.index(port)] for port in range(size))\n",
    "\n",
    "    def refrect(self, port):\n",
    "        return self.refrections[port]\n",
    "\n",
    "class Enigma:\n",
    "    def __init__(self, characters, rotations=(0,0,0), seeds=(0,1,2,3,4)):\n",
    "        self.letters = characters\n",
    "        self.rotations = rotations\n",
    "        # mechanical part\n",
    "        # enigma machine is composed of three parts:\n",
    "        # plug board, scrumbler and reflector\n",
    "        size = len(characters)\n",
    "        self.plug_board = Converter(size, seeds[0])\n",
    "        self.scrumblers = tuple(Scrumbler(size, seed, rotation)\n",
    "                                for seed, rotation in zip(seeds[1:-1], rotations))\n",
    "        self.refrector = Refrector(size, seeds[-1])\n",
    "\n",
    "    # initialize settings for the scrumblers\n",
    "    def set_rotations(self, rotations=None):\n",
    "        if rotations is None:\n",
    "            rotations = self.rotations\n",
    "        for scrumbler, rotation in zip(self.scrumblers, rotations):\n",
    "            scrumbler.set_rotation(rotation)\n",
    "\n",
    "    # rotate scrunbler\n",
    "    def _rotate_scrumblers(self):\n",
    "        for scrumbler in self.scrumblers:\n",
    "            if scrumbler.rotate() == 0: # no carry\n",
    "                return\n",
    "\n",
    "    # encode a letter\n",
    "    def _encode_letter(self, letter):\n",
    "        port = self.letters.index(letter)\n",
    "        # forward transmit\n",
    "        port = self.plug_board.forward(port)\n",
    "        for scrumbler in self.scrumblers:\n",
    "            port = scrumbler.forward(port)\n",
    "        # refrect\n",
    "        port = self.refrector.refrect(port)\n",
    "        # backward transmit\n",
    "        for scrumbler in self.scrumblers[::-1]:\n",
    "            port = scrumbler.backward(port)\n",
    "        port = self.plug_board.backward(port)\n",
    "        # rotate scrumblers\n",
    "        self._rotate_scrumblers()\n",
    "        return self.letters[port]\n",
    "\n",
    "    # encode a message\n",
    "    def encode(self, message):\n",
    "        return ''.join(self._encode_letter(letter) for letter in message)\n",
    "\n",
    "# character set\n",
    "alphabet = ['a', 'b', 'c', 'd', 'e', 'f', 'g', 'h', 'i', 'j', 'k',\n",
    "            'l', 'm', 'n', 'o', 'p', 'q', 'r', 's', 't', 'u', 'v',\n",
    "            'w', 'x', 'y', 'z', ' ', '?']"
   ]
  },
  {
   "cell_type": "code",
   "execution_count": 2,
   "metadata": {},
   "outputs": [
    {
     "name": "stdout",
     "output_type": "stream",
     "text": [
      "['a', 'b', 'c', 'd', 'e', 'f', 'g', 'h', 'i', 'j', 'k', 'l', 'm', 'n', 'o', 'p', 'q', 'r', 's', 't', 'u', 'v', 'w', 'x', 'y', 'z', ' ', '?']\n"
     ]
    }
   ],
   "source": [
    "print(alphabet)"
   ]
  },
  {
   "cell_type": "code",
   "execution_count": 3,
   "metadata": {},
   "outputs": [],
   "source": [
    "en = Enigma(characters=alphabet)\n"
   ]
  },
  {
   "cell_type": "code",
   "execution_count": 8,
   "metadata": {},
   "outputs": [
    {
     "name": "stdin",
     "output_type": "stream",
     "text": [
      " gekki\n"
     ]
    },
    {
     "name": "stdout",
     "output_type": "stream",
     "text": [
      "ti?ck\n",
      "ok ze\n"
     ]
    }
   ],
   "source": [
    "heibun = input()\n",
    "angou= en.encode(heibun)\n",
    "print(angou)\n",
    "en.set_rotations()\n",
    "print(en.encode(angou))"
   ]
  },
  {
   "cell_type": "code",
   "execution_count": null,
   "metadata": {},
   "outputs": [],
   "source": []
  }
 ],
 "metadata": {
  "kernelspec": {
   "display_name": "Python 3",
   "language": "python",
   "name": "python3"
  },
  "language_info": {
   "codemirror_mode": {
    "name": "ipython",
    "version": 3
   },
   "file_extension": ".py",
   "mimetype": "text/x-python",
   "name": "python",
   "nbconvert_exporter": "python",
   "pygments_lexer": "ipython3",
   "version": "3.8.4rc1"
  }
 },
 "nbformat": 4,
 "nbformat_minor": 4
}
