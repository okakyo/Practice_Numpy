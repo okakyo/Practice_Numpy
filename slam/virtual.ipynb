{
 "cells": [
  {
   "cell_type": "markdown",
   "metadata": {},
   "source": [
    "# 仮想環境の構築\n"
   ]
  },
  {
   "cell_type": "code",
   "execution_count": 28,
   "metadata": {},
   "outputs": [],
   "source": [
    "import numpy as np\n",
    "import matplotlib.pyplot as plt\n",
    "import scipy as sp"
   ]
  },
  {
   "cell_type": "code",
   "execution_count": 29,
   "metadata": {},
   "outputs": [],
   "source": [
    "import matplotlib\n",
    "import matplotlib.animation as anm\n",
    "matplotlib.use(\"nbagg\")"
   ]
  },
  {
   "cell_type": "code",
   "execution_count": 30,
   "metadata": {},
   "outputs": [],
   "source": [
    "import math \n",
    "import matplotlib.patches as patches "
   ]
  },
  {
   "cell_type": "code",
   "execution_count": 31,
   "metadata": {},
   "outputs": [],
   "source": [
    "class VWorld:\n",
    "    def __init__(self,debug = False):\n",
    "        self.objects = []               # ロボットのオブジェクトを登録\n",
    "        self.debug = debug\n",
    "        \n",
    "    def append(self,obj):\n",
    "        self.objects.append(obj)        # オブジェクトを登録するためのメソッド\n",
    "    \n",
    "    def draw(self):\n",
    "        fig = plt.figure(figsize=(8,8)) # 8x8 inch の図を準備非\n",
    "        ax =fig.add_subplot(111)        #サブプロットを用意\n",
    "        ax.set_aspect(\"equal\")          #縦横比の座標の値を一致させる\n",
    "        ax.set_xlim(-5,5)\n",
    "        ax.set_ylim(-5,5)\n",
    "        ax.set_xlabel(\"X\",fontsize=20)\n",
    "        ax.set_ylabel(\"Y\",fontsize=20)\n",
    "        \n",
    "        elems =[]\n",
    "        \n",
    "        \"\"\"\n",
    "        ロボットを描写するためのものであれば、次のように実装\n",
    "        for obj in self.objects:\n",
    "            obj.draw(ax)\n",
    "        \"\"\"\n",
    "        \n",
    "        # デバッグ時にはアニメーションを実行しない\n",
    "        \n",
    "        if(self.debug):\n",
    "            for i in range(100):self.one_step(i,elems,ax)\n",
    "        else:\n",
    "            self.ani = anm.FuncAnimation(fig,self.one_step,fargs =(elems,ax),frames =10, interval =1000, repeat =False)\n",
    "            plt.show()\n",
    "            \n",
    "    def one_step(self,i,elems,ax):\n",
    "        while elems:\n",
    "            elems.pop().remove()\n",
    "        elems.append(ax.text(-4,4,4,5,\"t=\"+str(i),fontsize=10))"
   ]
  },
  {
   "cell_type": "code",
   "execution_count": 15,
   "metadata": {},
   "outputs": [
    {
     "data": {
      "image/png": "[encoded data removed]",
      "text/plain": [
       "<Figure size 576x576 with 1 Axes>"
      ]
     },
     "metadata": {
      "needs_background": "light"
     },
     "output_type": "display_data"
    }
   ],
   "source": [
    "world = VWorld()\n",
    "world.draw()"
   ]
  },
  {
   "cell_type": "code",
   "execution_count": 17,
   "metadata": {},
   "outputs": [],
   "source": [
    "class VRobot:\n",
    "    def __init__(self,pose,color = \"black\"):\n",
    "        self.pose = pose\n",
    "        self.r =0.2\n",
    "        self.color = color\n",
    "        \n",
    "    def draw(self,ax): \n",
    "        x,y,theta = self.pose                    # 姿勢を３つに分解して３つの変数に\n",
    "        xn = x+ self.r* math.cos(theta)　        # ロボットの X座標\n",
    "        yn = y+ self.r* math.sin(theta)          # ロボットの Y座標\n",
    "        \n",
    "        ax.plot([x,xn],[y,yn],color =self.color) # ロボットの向きを示す線分の描写\n",
    "        \n",
    "        c = patches.Circle(xy=(x,y),radius =self.r, fill =False, color =self.color )\n",
    "        ax.add_patch(c)"
   ]
  },
  {
   "cell_type": "code",
   "execution_count": 22,
   "metadata": {},
   "outputs": [
    {
     "data": {
      "image/png": "[encoded data removed]",
      "text/plain": [
       "<Figure size 576x576 with 1 Axes>"
      ]
     },
     "metadata": {
      "needs_background": "light"
     },
     "output_type": "display_data"
    }
   ],
   "source": [
    "world = VWorld()\n",
    "\n",
    "robot1 = VRobot(np.array([2,3,math.pi/6]).T) \n",
    "robot2 = VRobot(np.array([-2,-1,math.pi/5*6]).T,\"red\")\n",
    "\n",
    "world.append(robot1)\n",
    "world.append(robot2)\n",
    "\n",
    "world.draw()"
   ]
  },
  {
   "cell_type": "markdown",
   "metadata": {},
   "source": []
  },
  {
   "cell_type": "code",
   "execution_count": null,
   "metadata": {},
   "outputs": [],
   "source": []
  },
  {
   "cell_type": "code",
   "execution_count": null,
   "metadata": {},
   "outputs": [],
   "source": []
  },
  {
   "cell_type": "code",
   "execution_count": null,
   "metadata": {},
   "outputs": [],
   "source": []
  },
  {
   "cell_type": "code",
   "execution_count": null,
   "metadata": {},
   "outputs": [],
   "source": []
  },
  {
   "cell_type": "code",
   "execution_count": null,
   "metadata": {},
   "outputs": [],
   "source": []
  }
 ],
 "metadata": {
  "kernelspec": {
   "display_name": "Python 3",
   "language": "python",
   "name": "python3"
  },
  "language_info": {
   "codemirror_mode": {
    "name": "ipython",
    "version": 3
   },
   "file_extension": ".py",
   "mimetype": "text/x-python",
   "name": "python",
   "nbconvert_exporter": "python",
   "pygments_lexer": "ipython3",
   "version": "3.8.6rc1"
  }
 },
 "nbformat": 4,
 "nbformat_minor": 4
}
